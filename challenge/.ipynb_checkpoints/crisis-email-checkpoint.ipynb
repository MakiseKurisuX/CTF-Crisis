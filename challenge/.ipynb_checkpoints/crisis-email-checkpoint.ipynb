{
 "cells": [
  {
   "cell_type": "markdown",
   "metadata": {},
   "source": [
    "Challenge Author: Ervin\n",
    "# Welcome Challenger!\n",
    "\n",
    "Welcome to the Phishing Section of the div0 Artificial Intelligence Capture-The-Flag Challenge! \n",
    "\n",
    "This challenge will cover a simplified version of an evasion attack, hence, you are supposed to send an email in order to try to force a false positive in the Machine Learning Model."
   ]
  },
  {
   "cell_type": "markdown",
   "metadata": {},
   "source": [
    "Background Information:\n",
    "\n",
    "This challenge involves the forcing of a false positive in the Artificial Intelligence, which in general, is the less damaging of the two forms of phishing attacks. So, why are we going through false positives? This is because false positives has caused more time loss as compared to the other variant. False positive phishing emails can cause either investigation time to be lost, or have even legitimate working emails be flagged and may ultimately cause confusion among workgroups due to communication breakdown. What does this ultimately mean? This means that productivity ultimately suffers greatly due to such circumstances, and is why we are doing this CTF."
   ]
  },
  {
   "cell_type": "markdown",
   "metadata": {},
   "source": [
    "First of all, we are going to go through some rules.\n",
    "\n",
    "- You, the participant are required to force a false positive (a normal email that appears to be a phishing email) on the Artificial Intelligence.\n",
    "- In doing so, successful forcing of a false positive will allow the flag to be sent to you.\n",
    "- No prior experience in hacking is required, we will give you hints along the way. (But you are to interpret what it means!)\n",
    "- Understanding of Artificial Intelligence though, will be very helpful, and you should attempt the following modules below before attempting the challenge:\n",
    "- Hacking of Artificial Intelligence is vastly different from conventional hacking, but maybe your methodologies can benefit you?"
   ]
  },
  {
   "cell_type": "markdown",
   "metadata": {},
   "source": [
    "Challenge:\n",
    "\n",
    "The Machine Learning Model used in this challenge is built with a poor dataset and is found to cause false positives to a specific kind of email! Can you find out what this kind of email is?"
   ]
  },
  {
   "cell_type": "markdown",
   "metadata": {},
   "source": [
    "Now that you have the rules down, we are going to go through the dataset that you are going to be given. The dataset you are given consists of 100 phishing emails and 100 non-phishing emails that are included in the training dataset of the AI. This dataset can be found in the github link, assuming that you haven't downloaded that yet:\n",
    "- Link here"
   ]
  },
  {
   "cell_type": "markdown",
   "metadata": {},
   "source": [
    "Additionally, import tools needed for this challenge includes:\n",
    "- email \n",
    "- BeautifulSoup (now bs4)"
   ]
  },
  {
   "cell_type": "markdown",
   "metadata": {},
   "source": [
    "Now that you have the dataset, you may want to traverse to the directory with the files and open them to do analysis on them, to see the differences between phishing and non-phishing emails."
   ]
  },
  {
   "cell_type": "code",
   "execution_count": null,
   "metadata": {},
   "outputs": [],
   "source": [
    "import os\n",
    "import email\n",
    "\n",
    "os.chdir(\"../Dataset\")\n",
    "filenames_phishing = os.listdir(\"phishing\")\n",
    "filenames_nonphish = os.listdir(\"non_phishing\")\n",
    "\n",
    "files_phishing = []\n",
    "files_nonphish = []\n",
    "\n",
    "for file in filenames_phishing:\n",
    "    filename = \"phishing/\" + file\n",
    "    fp = open(filename, 'rb')\n",
    "    mail = fp.read()\n",
    "    msg = email.message_from_bytes(mail)\n",
    "    files_phishing.append(msg)\n",
    "    fp.close()\n",
    "\n",
    "for file in filenames_nonphish:\n",
    "    filename = \"non_phishing/\" + file\n",
    "    fp = open(filename, 'rb')\n",
    "    mail = fp.read()\n",
    "    msg = email.message_from_bytes(mail)\n",
    "    files_nonphish.append(msg)\n",
    "    fp.close()"
   ]
  },
  {
   "cell_type": "markdown",
   "metadata": {},
   "source": [
    "Now, we have our files in the list, but what kinds of information can we extract from those files that may be indicative of a phishing email? Let's see... Oh!\n",
    "\n",
    "- email headers\n",
    "- attachments\n",
    "- email body\n",
    "- email links"
   ]
  },
  {
   "cell_type": "markdown",
   "metadata": {},
   "source": [
    "Let's go on to extracting information on the email subject!"
   ]
  },
  {
   "cell_type": "code",
   "execution_count": null,
   "metadata": {},
   "outputs": [],
   "source": [
    "from email.parser import BytesParser, Parser\n",
    "from email.policy import default\n",
    "\n",
    "emailheaders_phishing = []\n",
    "emailheaders_nonphish = []\n",
    "\n",
    "for file in filenames_phishing:\n",
    "    filename = \"phishing/\" + file\n",
    "    fp = open(filename, 'rb')\n",
    "    headers = BytesParser(policy=default).parse(fp)\n",
    "    emailheaders_phishing.append(headers)\n",
    "\n",
    "for file in filenames_nonphish:\n",
    "    filename = \"non_phishing/\" + file\n",
    "    fp = open(filename, 'rb')\n",
    "    headers = BytesParser(policy=default).parse(fp)\n",
    "    emailheaders_nonphish.append(headers)"
   ]
  },
  {
   "cell_type": "markdown",
   "metadata": {},
   "source": [
    "Now that we have the email subjects, let's think about certain attributes of an email subject that may lead a machine learning model to believe that it is a phishing email... Only one feature used in the actual model will be given here, so you will have to figure out the other emails yourself!"
   ]
  },
  {
   "cell_type": "code",
   "execution_count": null,
   "metadata": {},
   "outputs": [],
   "source": [
    "def subj_reply(header):\n",
    "    subj_reply = header['subject'].lower().startswith(\"re:\")\n",
    "    return subj_reply\n",
    "\n",
    "#CONTINUE FROM HERE"
   ]
  },
  {
   "cell_type": "code",
   "execution_count": null,
   "metadata": {},
   "outputs": [],
   "source": [
    "subj_reply_list_phishing = []\n",
    "subj_reply_list_nonphish = []\n",
    "\n",
    "for header in emailheaders_phishing:\n",
    "    subj_reply_list_phishing.append(subj_reply(header))\n",
    "for header in emailheaders_nonphish:\n",
    "    subj_reply_list_nonphish.append(subj_reply(header))\n",
    "    \n",
    "'''Go on and be wild'''\n",
    "\"\"\"-----------------\"\"\""
   ]
  },
  {
   "cell_type": "markdown",
   "metadata": {},
   "source": [
    "We can also look at if there is an attachment. This may also be an important feature that may make a machine learning model more likely to think that it is a phishing email? Let's take a look! For this part, you are on your own, so figure out the code yourself!"
   ]
  },
  {
   "cell_type": "code",
   "execution_count": null,
   "metadata": {},
   "outputs": [],
   "source": []
  },
  {
   "cell_type": "markdown",
   "metadata": {},
   "source": [
    "Now, let's try to extract the body of the email! Here, you are going to have to figure out the code yourself!"
   ]
  },
  {
   "cell_type": "code",
   "execution_count": null,
   "metadata": {},
   "outputs": [],
   "source": []
  },
  {
   "cell_type": "markdown",
   "metadata": {},
   "source": [
    "Now, maybe we can look at the several attributes of the email body that may lead a machine learning model to believe that it is a phishing email. Like the one for email subjects, only one feature used in the actual model will be given here, so you will have to figure out the other features by yourself!"
   ]
  },
  {
   "cell_type": "code",
   "execution_count": null,
   "metadata": {},
   "outputs": [],
   "source": [
    "def checkSuspension(body_content):\n",
    "    body_suspension = \"suspension\" in body_content.lower()\n",
    "    return body_suspension"
   ]
  },
  {
   "cell_type": "code",
   "execution_count": null,
   "metadata": {},
   "outputs": [],
   "source": [
    "check_suspension_phishing = []\n",
    "check_suspension_nonphish = []\n",
    "\n",
    "for body in __________________:\n",
    "    check_suspension_phishing.append(checkSuspension(body))\n",
    "for body in __________________:\n",
    "    check_suspension_nonphish.append(checkSuspension(body))\n",
    "    '''Go on and be wild'''\n",
    "    \"\"\"-----------------\"\"\""
   ]
  },
  {
   "cell_type": "markdown",
   "metadata": {},
   "source": [
    "We can also look at the email links right? So let's go on and extract the links, before we extract some features of the links, shall we? For extracting links and URLs, you are on your own, but we will give you a hint here.\n",
    "\n",
    "HINT: Use BeautifulSoup to extract the links and URLs"
   ]
  },
  {
   "cell_type": "code",
   "execution_count": null,
   "metadata": {},
   "outputs": [],
   "source": [
    "from bs4 import BeautifulSoup\n",
    "\n",
    "'''EXTRACT LINKS AND URLS'''"
   ]
  },
  {
   "cell_type": "markdown",
   "metadata": {},
   "source": [
    "We now have the links and URLs don't we, so now you should extract features from the links given, and figure out what features are important here! One feature will be given here, so take the opportunity and think of other features that may be considered important by the dataset!"
   ]
  },
  {
   "cell_type": "code",
   "execution_count": null,
   "metadata": {},
   "outputs": [],
   "source": [
    "def noOfLinks(links):\n",
    "    noLinks = len(links)\n",
    "    return noLinks"
   ]
  },
  {
   "cell_type": "code",
   "execution_count": null,
   "metadata": {},
   "outputs": [],
   "source": []
  },
  {
   "cell_type": "markdown",
   "metadata": {},
   "source": [
    "Now that we have all our features down, maybe we can turn it into a pandas dataset in order to turn it in order to look at the extracted data with the pandas tools?"
   ]
  },
  {
   "cell_type": "code",
   "execution_count": null,
   "metadata": {},
   "outputs": [],
   "source": [
    "import numpy\n",
    "import pandas as pd\n",
    "\n",
    "'''Add the features gathered from your feature extraction, and the phishing label'''\n",
    "features = ['''FEATURES''','Phishing']\n",
    "\n",
    "df = pd.DataFrame(columns = features)\n",
    "\n",
    "'''Conversion to Pandas Dataframe'''\n",
    "for x in range(0,100):\n",
    "    entry_phishing = ['''ADD YOUR FEATURES HERE''','1']\n",
    "    entry_nonphish = ['''ADD YOUR FEATURES HERE''','0']\n",
    "    phishing_series = pd.Series(entry_phishing, index = df.columns)\n",
    "    nonphish_series = pd.Series(entry_nonphish, index = df.columns)\n",
    "    df = df.append(phishing_series, ignore_index = True)\n",
    "    df = df.append(nonphish_series, ignore_index = True)"
   ]
  },
  {
   "cell_type": "markdown",
   "metadata": {},
   "source": [
    "Now, we can take a look at the many features of the pandas dataframe created, and look at the correlation between the features and the probability of an email being a phishing email!\n",
    "\n",
    "One example of using pandas groupby to do correlation checks:\n",
    "- data[['subjReply', 'Phishing']].groupby(['subjReply'], as_index=False).mean()"
   ]
  },
  {
   "cell_type": "code",
   "execution_count": null,
   "metadata": {},
   "outputs": [],
   "source": [
    "df.info()"
   ]
  },
  {
   "cell_type": "code",
   "execution_count": null,
   "metadata": {},
   "outputs": [],
   "source": []
  },
  {
   "cell_type": "code",
   "execution_count": null,
   "metadata": {},
   "outputs": [],
   "source": []
  },
  {
   "cell_type": "markdown",
   "metadata": {},
   "source": [
    "Now that you have done the correlation check, do you now know what are the features that generally constitutes a phishing email?\n",
    "\n",
    "Now let's try to break the model by using these features against the machine learning model, and try to break the machine learning model by creating a false positive, where the machine learning model thinks a non-phishing email is a phishing email.\n",
    "\n",
    "One method you can try in order to craft the email would be to use Thunderbird in order to craft the email."
   ]
  },
  {
   "cell_type": "markdown",
   "metadata": {},
   "source": [
    "With your phishing email crafted, it will be sent to a server to test for whether it is successful in breaking the machine learning model or not!\n",
    "\n",
    "Link: ???? (TO BE ADDED)"
   ]
  },
  {
   "cell_type": "code",
   "execution_count": 1,
   "metadata": {
    "scrolled": false
   },
   "outputs": [
    {
     "data": {
      "text/html": [
       "\n",
       "        <iframe\n",
       "            width=\"800\"\n",
       "            height=\"300\"\n",
       "            src=\"https://ctf-crisis-2.herokuapp.com/challenge1\"\n",
       "            frameborder=\"0\"\n",
       "            allowfullscreen\n",
       "        ></iframe>\n",
       "        "
      ],
      "text/plain": [
       "<IPython.lib.display.IFrame at 0x1b5dd6aafd0>"
      ]
     },
     "execution_count": 1,
     "metadata": {},
     "output_type": "execute_result"
    }
   ],
   "source": [
    "from IPython.display import IFrame\n",
    "IFrame(\"https://ctf-crisis-2.herokuapp.com/challenge1\", width=800, height=300)"
   ]
  },
  {
   "cell_type": "markdown",
   "metadata": {},
   "source": [
    "BONUS QUESTION:\n",
    "\n",
    "Are you able to determine the most important feature to the Machine Learning Model?\n",
    "(HINT: It is one of the features that we have shown you!)"
   ]
  },
  {
   "cell_type": "code",
   "execution_count": 2,
   "metadata": {
    "scrolled": false
   },
   "outputs": [
    {
     "data": {
      "text/html": [
       "\n",
       "        <iframe\n",
       "            width=\"800\"\n",
       "            height=\"300\"\n",
       "            src=\"https://ctf-crisis-2.herokuapp.com/challenge1_p2\"\n",
       "            frameborder=\"0\"\n",
       "            allowfullscreen\n",
       "        ></iframe>\n",
       "        "
      ],
      "text/plain": [
       "<IPython.lib.display.IFrame at 0x1b5dd6c6048>"
      ]
     },
     "execution_count": 2,
     "metadata": {},
     "output_type": "execute_result"
    }
   ],
   "source": [
    "from IPython.display import IFrame\n",
    "IFrame(\"https://ctf-crisis-2.herokuapp.com/challenge1_p2\", width=800, height=300)"
   ]
  },
  {
   "cell_type": "code",
   "execution_count": null,
   "metadata": {},
   "outputs": [],
   "source": []
  }
 ],
 "metadata": {
  "kernelspec": {
   "display_name": "Python 3",
   "language": "python",
   "name": "python3"
  },
  "language_info": {
   "codemirror_mode": {
    "name": "ipython",
    "version": 3
   },
   "file_extension": ".py",
   "mimetype": "text/x-python",
   "name": "python",
   "nbconvert_exporter": "python",
   "pygments_lexer": "ipython3",
   "version": "3.6.9"
  }
 },
 "nbformat": 4,
 "nbformat_minor": 2
}
