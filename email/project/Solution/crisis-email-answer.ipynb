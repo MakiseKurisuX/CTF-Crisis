{
 "cells": [
  {
   "cell_type": "markdown",
   "metadata": {},
   "source": [
    "Challenge Author: Ervin\n",
    "# Welcome Challenger!\n",
    "\n",
    "Welcome to the Phishing Section of the div0 Artificial Intelligence Capture-The-Flag Challenge! \n",
    "\n",
    "This challenge will cover a simplified version of an evasion attack, hence, you are supposed to send an email in order to try to force a false positive in the Machine Learning Model."
   ]
  },
  {
   "cell_type": "markdown",
   "metadata": {},
   "source": [
    "Background Information:\n",
    "\n",
    "This challenge involves the forcing of a false positive in the Artificial Intelligence, which in general, is the less damaging of the two forms of phishing attacks. So, why are we going through false positives? This is because false positives has caused more time loss as compared to the other variant. False positive phishing emails can cause either investigation time to be lost, or have even legitimate working emails be flagged and may ultimately cause confusion among workgroups due to communication breakdown. What does this ultimately mean? This means that productivity ultimately suffers greatly due to such circumstances, and is why we are doing this CTF."
   ]
  },
  {
   "cell_type": "markdown",
   "metadata": {},
   "source": [
    "First of all, we are going to go through some rules.\n",
    "\n",
    "- You, the participant are required to force a false positive (a normal email that appears to be a phishing email) on the Artificial Intelligence.\n",
    "- In doing so, successful forcing of a false positive will allow the flag to be sent to you.\n",
    "- No prior experience in hacking is required, we will give you hints along the way. (But you are to interpret what it means!)\n",
    "- Understanding of Artificial Intelligence though, will be very helpful, and you should attempt the following modules below before attempting the challenge:\n",
    "- Hacking of Artificial Intelligence is vastly different from conventional hacking, but maybe your methodologies can benefit you?"
   ]
  },
  {
   "cell_type": "markdown",
   "metadata": {},
   "source": [
    "Challenge:\n",
    "\n",
    "The Machine Learning Model used in this challenge is built with a poor dataset and is found to cause false positives to a specific kind of email! Can you find out what this kind of email is?"
   ]
  },
  {
   "cell_type": "markdown",
   "metadata": {},
   "source": [
    "Now that you have the rules down, we are going to go through the dataset that you are going to be given. The dataset you are given consists of 100 phishing emails and 100 non-phishing emails that are included in the training dataset of the AI. This dataset can be found in the github link, assuming that you haven't downloaded that yet:\n",
    "- Link here"
   ]
  },
  {
   "cell_type": "markdown",
   "metadata": {},
   "source": [
    "Additionally, import tools needed for this challenge includes:\n",
    "- email \n",
    "- BeautifulSoup"
   ]
  },
  {
   "cell_type": "markdown",
   "metadata": {},
   "source": [
    "Now that you have the dataset, you may want to traverse to the directory with the files and open them to do analysis on them, to see the differences between phishing and non-phishing emails."
   ]
  },
  {
   "cell_type": "code",
   "execution_count": 1,
   "metadata": {
    "scrolled": true
   },
   "outputs": [],
   "source": [
    "import os\n",
    "import email\n",
    "\n",
    "os.chdir(\"Dataset\")\n",
    "filenames_phishing = os.listdir(\"phishing\")\n",
    "filenames_nonphish = os.listdir(\"non_phishing\")\n",
    "\n",
    "files_phishing = []\n",
    "files_nonphish = []\n",
    "\n",
    "for file in filenames_phishing:\n",
    "    filename = \"phishing/\" + file\n",
    "    fp = open(filename, 'rb')\n",
    "    mail = fp.read()\n",
    "    msg = email.message_from_bytes(mail)\n",
    "    files_phishing.append(msg)\n",
    "    fp.close()\n",
    "\n",
    "for file in filenames_nonphish:\n",
    "    filename = \"non_phishing/\" + file\n",
    "    fp = open(filename, 'rb')\n",
    "    mail = fp.read()\n",
    "    msg = email.message_from_bytes(mail)\n",
    "    files_nonphish.append(msg)\n",
    "    fp.close()"
   ]
  },
  {
   "cell_type": "markdown",
   "metadata": {},
   "source": [
    "Now, we have our files in the list, but what kinds of information can we extract from those files that may be indicative of a phishing email? Let's see... Oh!\n",
    "\n",
    "- email headers\n",
    "- attachments\n",
    "- email body\n",
    "- email links"
   ]
  },
  {
   "cell_type": "markdown",
   "metadata": {},
   "source": [
    "Let's go on to extracting information on the email subject!"
   ]
  },
  {
   "cell_type": "code",
   "execution_count": 2,
   "metadata": {},
   "outputs": [],
   "source": [
    "from email.parser import BytesParser, Parser\n",
    "from email.policy import default\n",
    "\n",
    "emailheaders_phishing = []\n",
    "emailheaders_nonphish = []\n",
    "\n",
    "for file in filenames_phishing:\n",
    "    filename = \"phishing/\" + file\n",
    "    fp = open(filename, 'rb')\n",
    "    headers = BytesParser(policy=default).parse(fp)\n",
    "    emailheaders_phishing.append(headers)\n",
    "\n",
    "for file in filenames_nonphish:\n",
    "    filename = \"non_phishing/\" + file\n",
    "    fp = open(filename, 'rb')\n",
    "    headers = BytesParser(policy=default).parse(fp)\n",
    "    emailheaders_nonphish.append(headers)"
   ]
  },
  {
   "cell_type": "markdown",
   "metadata": {},
   "source": [
    "Now that we have the email subjects, let's think about certain attributes of an email subject that may lead a machine learning model to believe that it is a phishing email... Only one feature used in the actual model will be given here, so you will have to figure out the other emails yourself!"
   ]
  },
  {
   "cell_type": "code",
   "execution_count": 3,
   "metadata": {},
   "outputs": [],
   "source": [
    "def subj_reply(header):\n",
    "    subj_reply = header['subject'].lower().startswith(\"re:\")\n",
    "    return subj_reply\n",
    "\n",
    "#CONTINUE FROM HERE\n",
    "# ADDED 3 MORE EXAMPLE FEATURES\n",
    "#ADDED ANSWER CODE\n",
    "def subj_forward(header):\n",
    "    try:\n",
    "        subj_forward = header['subject'].lower().startswith(\"fwd:\")\n",
    "    except:\n",
    "        subj_forward = \"\"\n",
    "    return subj_forward\n",
    "\n",
    "def subj_noOfWords(header):\n",
    "    try:\n",
    "        subj_noOfWords = len(header['subject'].split())\n",
    "    except:\n",
    "        subj_noOfWords = 0\n",
    "    return subj_noOfWords\n",
    "\n",
    "def subj_noOfChar(header):\n",
    "    try:\n",
    "        subj_noOfChar = len(header['subject'])\n",
    "    except:\n",
    "        subj_noOfChar = 0\n",
    "    return subj_noOfChar"
   ]
  },
  {
   "cell_type": "code",
   "execution_count": 4,
   "metadata": {},
   "outputs": [],
   "source": [
    "subj_reply_list_phishing = []\n",
    "subj_reply_list_nonphish = []\n",
    "subj_forward_phishing = []\n",
    "subj_forward_nonphish = []\n",
    "subj_noWords_phishing = []\n",
    "subj_noWords_nonphish = []\n",
    "subj_noChars_phishing = []\n",
    "subj_noChars_nonphish = []\n",
    "\n",
    "for header in emailheaders_phishing:\n",
    "    subj_reply_list_phishing.append(subj_reply(header))\n",
    "for header in emailheaders_nonphish:\n",
    "    subj_reply_list_nonphish.append(subj_reply(header))\n",
    "    \n",
    "'''Go on and be wild'''\n",
    "\"\"\"-----------------\"\"\"\n",
    "#ADDED ANSWER CODE\n",
    "for header in emailheaders_phishing:\n",
    "    subj_forward_phishing.append(subj_forward(header))\n",
    "for header in emailheaders_nonphish:\n",
    "    subj_forward_nonphish.append(subj_forward(header))\n",
    "    \n",
    "for header in emailheaders_phishing:\n",
    "    subj_noWords_phishing.append(subj_noOfWords(header))\n",
    "for header in emailheaders_nonphish:\n",
    "    subj_noWords_nonphish.append(subj_noOfWords(header))\n",
    "    \n",
    "for header in emailheaders_phishing:\n",
    "    subj_noChars_phishing.append(subj_noOfChar(header))\n",
    "for header in emailheaders_nonphish:\n",
    "    subj_noChars_nonphish.append(subj_noOfChar(header))"
   ]
  },
  {
   "cell_type": "markdown",
   "metadata": {},
   "source": [
    "We can also look at if there is an attachment. This may also be an important feature that may make a machine learning model more likely to think that it is a phishing email? Let's take a look! For this part, you are on your own, so figure out the code yourself!"
   ]
  },
  {
   "cell_type": "code",
   "execution_count": 5,
   "metadata": {},
   "outputs": [],
   "source": [
    "#ADDED ANSWER CODE\n",
    "def CheckAttachment(msg):\n",
    "    attachment = 0\n",
    "    for part in msg.walk():\n",
    "        if part.get_content_maintype() == 'multipart':\n",
    "            continue\n",
    "        if part.get('Content-Disposition') is None:\n",
    "            continue\n",
    "    fileName = part.get_filename()\n",
    "    if bool(fileName):\n",
    "        attachment = 1\n",
    "    return attachment\n",
    "\n",
    "check_attachment_phishing = []\n",
    "check_attachment_nonphish = []\n",
    "\n",
    "for file in files_phishing:\n",
    "    check_attachment_phishing.append(CheckAttachment(file))\n",
    "for file in files_nonphish:\n",
    "    check_attachment_nonphish.append(CheckAttachment(file))"
   ]
  },
  {
   "cell_type": "markdown",
   "metadata": {},
   "source": [
    "Now, let's try to extract the body of the email! Here, you are going to have to figure out the code yourself!"
   ]
  },
  {
   "cell_type": "code",
   "execution_count": 6,
   "metadata": {},
   "outputs": [],
   "source": [
    "#ADDED ANSWER CODE\n",
    "def ExtractBody(msg):\n",
    "    content = \"\"\n",
    "    if msg.is_multipart():\n",
    "        for payload in msg.get_payload():\n",
    "            content += str(payload.get_payload())\n",
    "    else:\n",
    "        content += str(msg.get_payload())\n",
    "    return content\n",
    "\n",
    "body_phishing = []\n",
    "body_nonphish = []\n",
    "\n",
    "for file in files_phishing:\n",
    "    body_phishing.append(ExtractBody(file))\n",
    "for file in files_nonphish:\n",
    "    body_nonphish.append(ExtractBody(file))"
   ]
  },
  {
   "cell_type": "markdown",
   "metadata": {},
   "source": [
    "Now, maybe we can look at the several attributes of the email body that may lead a machine learning model to believe that it is a phishing email. Like the one for email subjects, only one feature used in the actual model will be given here, so you will have to figure out the other features by yourself!"
   ]
  },
  {
   "cell_type": "code",
   "execution_count": 7,
   "metadata": {},
   "outputs": [],
   "source": [
    "def checkSuspension(body_content):\n",
    "    body_suspension = \"suspension\" in body_content.lower()\n",
    "    return body_suspension\n",
    "\n",
    "#ADDED ANSWER CODE\n",
    "def checkNoWords(body_content):\n",
    "    body_NoWords = len(body_content.split())\n",
    "    return body_NoWords\n",
    "\n",
    "def checkNoChars(body_content):\n",
    "    body_NoChars = len(body_content) - body_content.count(' ') - body_content.count('\\n')\n",
    "    return body_NoChars"
   ]
  },
  {
   "cell_type": "code",
   "execution_count": 8,
   "metadata": {},
   "outputs": [],
   "source": [
    "check_suspension_phishing = []\n",
    "check_suspension_nonphish = []\n",
    "#ADDED ANSWER CODE\n",
    "check_noWords_phishing = []\n",
    "check_noWords_nonphish = []\n",
    "check_noChars_phishing = []\n",
    "check_noChars_nonphish = []\n",
    "\n",
    "for body in body_phishing:\n",
    "    check_suspension_phishing.append(checkSuspension(body))\n",
    "for body in body_nonphish:\n",
    "    check_suspension_nonphish.append(checkSuspension(body))\n",
    "'''Go on and be wild'''\n",
    "\"\"\"-----------------\"\"\"\n",
    "#ADDED ANSWER CODE    \n",
    "for body in body_phishing:\n",
    "    check_noWords_phishing.append(checkNoWords(body))\n",
    "for body in body_nonphish:\n",
    "    check_noWords_nonphish.append(checkNoWords(body))\n",
    "    \n",
    "for body in body_phishing:\n",
    "    check_noChars_phishing.append(checkNoChars(body))\n",
    "for body in body_nonphish:\n",
    "    check_noChars_nonphish.append(checkNoChars(body))"
   ]
  },
  {
   "cell_type": "markdown",
   "metadata": {},
   "source": [
    "We can also look at the email links right? So let's go on and extract the links, before we extract some features of the links, shall we? For extracting links and URLs, you are on your own, but we will give you a hint here.\n",
    "\n",
    "HINT: Use BeautifulSoup to extract the links and URLs"
   ]
  },
  {
   "cell_type": "code",
   "execution_count": 9,
   "metadata": {},
   "outputs": [],
   "source": [
    "from bs4 import BeautifulSoup\n",
    "import re, os, sys\n",
    "\n",
    "'''EXTRACT LINKS AND URLS'''\n",
    "#ADDED ANSWER CODE \n",
    "def getLinks(body_content):\n",
    "    links = []\n",
    "    content = []\n",
    "    soup = BeautifulSoup(body_content, \"lxml\")\n",
    "    for link in soup.findAll('a'):\n",
    "        links.append(link.get(\"href\"))\n",
    "    return links\n",
    "\n",
    "def getURLs(body_content):\n",
    "    urls = re.findall(r\"http[s]?://(?:[a-zA-Z]|[0-9]|[$-_@.&+]|[!*\\(\\),]|(?:%[0-9a-fA-F][0-9a-fA-F]))+\", body_content)\n",
    "    return urls\n",
    "\n",
    "links_phishing = []\n",
    "links_nonphish = []\n",
    "urls_phishing = []\n",
    "urls_nonphish = []\n",
    "\n",
    "for body in body_phishing:\n",
    "    links_phishing.append(getLinks(body))\n",
    "for body in body_nonphish:\n",
    "    links_nonphish.append(getLinks(body))\n",
    "for body in body_phishing:\n",
    "    urls_phishing.append(getURLs(body))\n",
    "for body in body_nonphish:\n",
    "    urls_nonphish.append(getURLs(body))"
   ]
  },
  {
   "cell_type": "markdown",
   "metadata": {},
   "source": [
    "We now have the links and URLs don't we, so now you should extract features from the links given, and figure out what features are important here! One feature will be given here, so take the opportunity and think of other features that may be considered important by the dataset!"
   ]
  },
  {
   "cell_type": "code",
   "execution_count": 10,
   "metadata": {},
   "outputs": [
    {
     "name": "stderr",
     "output_type": "stream",
     "text": [
      "C:\\Users\\User\\Anaconda3\\lib\\site-packages\\bs4\\__init__.py:181: UserWarning: No parser was explicitly specified, so I'm using the best available HTML parser for this system (\"lxml\"). This usually isn't a problem, but if you run this code on another system, or in a different virtual environment, it may use a different parser and behave differently.\n",
      "\n",
      "The code that caused this warning is on line 193 of the file C:\\Users\\User\\Anaconda3\\lib\\runpy.py. To get rid of this warning, change code that looks like this:\n",
      "\n",
      " BeautifulSoup(YOUR_MARKUP})\n",
      "\n",
      "to this:\n",
      "\n",
      " BeautifulSoup(YOUR_MARKUP, \"lxml\")\n",
      "\n",
      "  markup_type=markup_type))\n"
     ]
    }
   ],
   "source": [
    "def noOfLinks(links):\n",
    "    noLinks = len(links)\n",
    "    return noLinks\n",
    "\n",
    "#ADDED ANSWER CODE \n",
    "def check_img(body_content):\n",
    "    soup = BeautifulSoup(body_content)\n",
    "    ImgLinks = soup.findAll('img')\n",
    "    noOfImgLinks = len(ImgLinks)\n",
    "    return noOfImgLinks\n",
    "\n",
    "def check_doubleslash(links):\n",
    "    no_doubleslash = 1\n",
    "    for link in links:\n",
    "        xd = str(link)[10:]\n",
    "        if u'//' in xd:\n",
    "            no_doubleslash = 0\n",
    "    return no_doubleslash\n",
    "\n",
    "nolinks_phishing = []\n",
    "nolinks_nonphish = []\n",
    "img_phishing = []\n",
    "img_nonphish = []\n",
    "doubleslash_phishing = []\n",
    "doubleslash_nonphish = []\n",
    "\n",
    "for body in body_phishing:\n",
    "    img_phishing.append(check_img(body))\n",
    "for body in body_nonphish:\n",
    "    img_nonphish.append(check_img(body))\n",
    "    \n",
    "for link in links_phishing:\n",
    "    nolinks_phishing.append(noOfLinks(link))\n",
    "    doubleslash_phishing.append(check_doubleslash(link))\n",
    "for link in links_nonphish:\n",
    "    nolinks_nonphish.append(noOfLinks(link))\n",
    "    doubleslash_nonphish.append(check_doubleslash(link))"
   ]
  },
  {
   "cell_type": "markdown",
   "metadata": {},
   "source": [
    "Now that we have all our features down, maybe we can turn it into a pandas dataset in order to turn it in order to look at the extracted data with the pandas tools?"
   ]
  },
  {
   "cell_type": "code",
   "execution_count": 11,
   "metadata": {},
   "outputs": [],
   "source": [
    "import numpy\n",
    "import pandas as pd\n",
    "\n",
    "'''Add the features gathered from your feature extraction, and the phishing label'''\n",
    "features = ['subj_reply', 'subj_forward', 'subj_noWords', 'subj_noChars', 'check_suspension', 'check_noWords', 'check_noChars', 'nolinks', 'img', 'doubleslash','Phishing']\n",
    "\n",
    "df = pd.DataFrame(columns = features)\n",
    "\n",
    "\n",
    "'''Conversion to Pandas Dataframe'''\n",
    "for x in range(0,100):\n",
    "    entry_phishing = [subj_reply_list_phishing[x], subj_forward_phishing[x], subj_noWords_phishing[x], subj_noChars_phishing[x], check_suspension_phishing[x], check_noWords_phishing[x], check_noChars_phishing[x], nolinks_phishing[x], img_phishing[x], doubleslash_phishing[x],'1']\n",
    "    entry_nonphish = [subj_reply_list_nonphish[x], subj_forward_nonphish[x], subj_noWords_nonphish[x], subj_noChars_nonphish[x], check_suspension_nonphish[x], check_noWords_nonphish[x], check_noChars_nonphish[x], nolinks_nonphish[x], img_nonphish[x], doubleslash_nonphish[x],'0']\n",
    "    np_phishing = numpy.array(entry_phishing)\n",
    "    np_nonphish = numpy.array(entry_nonphish)\n",
    "    phishing_series = pd.Series(entry_phishing, index = df.columns)\n",
    "    nonphish_series = pd.Series(entry_nonphish, index = df.columns)\n",
    "    df = df.append(phishing_series, ignore_index = True)\n",
    "    df = df.append(nonphish_series, ignore_index = True)"
   ]
  },
  {
   "cell_type": "markdown",
   "metadata": {},
   "source": [
    "Now, we can take a look at the many features of the pandas dataframe created, and look at the correlation between the features and the probability of an email being a phishing email!"
   ]
  },
  {
   "cell_type": "code",
   "execution_count": 12,
   "metadata": {
    "scrolled": false
   },
   "outputs": [
    {
     "name": "stdout",
     "output_type": "stream",
     "text": [
      "<class 'pandas.core.frame.DataFrame'>\n",
      "RangeIndex: 200 entries, 0 to 199\n",
      "Data columns (total 11 columns):\n",
      " #   Column            Non-Null Count  Dtype \n",
      "---  ------            --------------  ----- \n",
      " 0   subj_reply        200 non-null    object\n",
      " 1   subj_forward      200 non-null    object\n",
      " 2   subj_noWords      200 non-null    object\n",
      " 3   subj_noChars      200 non-null    object\n",
      " 4   check_suspension  200 non-null    object\n",
      " 5   check_noWords     200 non-null    object\n",
      " 6   check_noChars     200 non-null    object\n",
      " 7   nolinks           200 non-null    object\n",
      " 8   img               200 non-null    object\n",
      " 9   doubleslash       200 non-null    object\n",
      " 10  Phishing          200 non-null    object\n",
      "dtypes: object(11)\n",
      "memory usage: 17.3+ KB\n"
     ]
    }
   ],
   "source": [
    "df.info()"
   ]
  },
  {
   "cell_type": "markdown",
   "metadata": {},
   "source": [
    "EXAMPLE CODE for converting object file type to other filetype:\n",
    "\n",
    "df = df.convert_dtypes()"
   ]
  },
  {
   "cell_type": "code",
   "execution_count": 13,
   "metadata": {
    "scrolled": true
   },
   "outputs": [
    {
     "data": {
      "text/plain": [
       "subj_reply          int32\n",
       "subj_forward        int32\n",
       "subj_noWords        int32\n",
       "subj_noChars        int32\n",
       "check_suspension    int32\n",
       "check_noWords       int32\n",
       "check_noChars       int32\n",
       "nolinks             int32\n",
       "img                 int32\n",
       "doubleslash         int32\n",
       "Phishing            int32\n",
       "dtype: object"
      ]
     },
     "execution_count": 13,
     "metadata": {},
     "output_type": "execute_result"
    }
   ],
   "source": [
    "df.astype('int32').dtypes"
   ]
  },
  {
   "cell_type": "code",
   "execution_count": 14,
   "metadata": {
    "scrolled": true
   },
   "outputs": [],
   "source": [
    "df = df.convert_dtypes()"
   ]
  },
  {
   "cell_type": "code",
   "execution_count": 15,
   "metadata": {
    "scrolled": true
   },
   "outputs": [
    {
     "name": "stdout",
     "output_type": "stream",
     "text": [
      "<class 'pandas.core.frame.DataFrame'>\n",
      "RangeIndex: 200 entries, 0 to 199\n",
      "Data columns (total 11 columns):\n",
      " #   Column            Non-Null Count  Dtype  \n",
      "---  ------            --------------  -----  \n",
      " 0   subj_reply        200 non-null    boolean\n",
      " 1   subj_forward      200 non-null    boolean\n",
      " 2   subj_noWords      200 non-null    Int64  \n",
      " 3   subj_noChars      200 non-null    Int64  \n",
      " 4   check_suspension  200 non-null    boolean\n",
      " 5   check_noWords     200 non-null    Int64  \n",
      " 6   check_noChars     200 non-null    Int64  \n",
      " 7   nolinks           200 non-null    Int64  \n",
      " 8   img               200 non-null    Int64  \n",
      " 9   doubleslash       200 non-null    Int64  \n",
      " 10  Phishing          200 non-null    string \n",
      "dtypes: Int64(7), boolean(3), string(1)\n",
      "memory usage: 15.2 KB\n"
     ]
    }
   ],
   "source": [
    "df.info()"
   ]
  },
  {
   "cell_type": "code",
   "execution_count": 16,
   "metadata": {},
   "outputs": [
    {
     "data": {
      "text/plain": [
       "subj_reply          boolean\n",
       "subj_forward        boolean\n",
       "subj_noWords          Int64\n",
       "subj_noChars          Int64\n",
       "check_suspension    boolean\n",
       "check_noWords         Int64\n",
       "check_noChars         Int64\n",
       "nolinks               Int64\n",
       "img                   Int64\n",
       "doubleslash           Int64\n",
       "Phishing             string\n",
       "dtype: object"
      ]
     },
     "execution_count": 16,
     "metadata": {},
     "output_type": "execute_result"
    }
   ],
   "source": [
    "df.dtypes"
   ]
  },
  {
   "cell_type": "code",
   "execution_count": 17,
   "metadata": {
    "scrolled": true
   },
   "outputs": [
    {
     "data": {
      "text/plain": [
       "subj_reply            True\n",
       "subj_forward         False\n",
       "subj_noWords            17\n",
       "subj_noChars            94\n",
       "check_suspension      True\n",
       "check_noWords         4442\n",
       "check_noChars       173586\n",
       "nolinks                 18\n",
       "img                     65\n",
       "doubleslash              1\n",
       "Phishing                 1\n",
       "dtype: object"
      ]
     },
     "execution_count": 17,
     "metadata": {},
     "output_type": "execute_result"
    }
   ],
   "source": [
    "df.max()"
   ]
  },
  {
   "cell_type": "code",
   "execution_count": 18,
   "metadata": {
    "scrolled": true
   },
   "outputs": [
    {
     "data": {
      "text/plain": [
       "subj_reply          False\n",
       "subj_forward        False\n",
       "subj_noWords            1\n",
       "subj_noChars            4\n",
       "check_suspension    False\n",
       "check_noWords           0\n",
       "check_noChars           0\n",
       "nolinks                 0\n",
       "img                     0\n",
       "doubleslash             0\n",
       "Phishing                0\n",
       "dtype: object"
      ]
     },
     "execution_count": 18,
     "metadata": {},
     "output_type": "execute_result"
    }
   ],
   "source": [
    "df.min()"
   ]
  },
  {
   "cell_type": "code",
   "execution_count": 19,
   "metadata": {
    "scrolled": true
   },
   "outputs": [
    {
     "data": {
      "text/html": [
       "<div>\n",
       "<style scoped>\n",
       "    .dataframe tbody tr th:only-of-type {\n",
       "        vertical-align: middle;\n",
       "    }\n",
       "\n",
       "    .dataframe tbody tr th {\n",
       "        vertical-align: top;\n",
       "    }\n",
       "\n",
       "    .dataframe thead th {\n",
       "        text-align: right;\n",
       "    }\n",
       "</style>\n",
       "<table border=\"1\" class=\"dataframe\">\n",
       "  <thead>\n",
       "    <tr style=\"text-align: right;\">\n",
       "      <th></th>\n",
       "      <th>subj_reply</th>\n",
       "      <th>subj_forward</th>\n",
       "      <th>subj_noWords</th>\n",
       "      <th>subj_noChars</th>\n",
       "      <th>check_suspension</th>\n",
       "      <th>check_noWords</th>\n",
       "      <th>check_noChars</th>\n",
       "      <th>nolinks</th>\n",
       "      <th>img</th>\n",
       "      <th>doubleslash</th>\n",
       "      <th>Phishing</th>\n",
       "    </tr>\n",
       "  </thead>\n",
       "  <tbody>\n",
       "    <tr>\n",
       "      <th>0</th>\n",
       "      <td>True</td>\n",
       "      <td>False</td>\n",
       "      <td>8</td>\n",
       "      <td>50</td>\n",
       "      <td>False</td>\n",
       "      <td>57</td>\n",
       "      <td>315</td>\n",
       "      <td>0</td>\n",
       "      <td>0</td>\n",
       "      <td>1</td>\n",
       "      <td>1</td>\n",
       "    </tr>\n",
       "    <tr>\n",
       "      <th>2</th>\n",
       "      <td>False</td>\n",
       "      <td>False</td>\n",
       "      <td>5</td>\n",
       "      <td>35</td>\n",
       "      <td>False</td>\n",
       "      <td>1214</td>\n",
       "      <td>40572</td>\n",
       "      <td>7</td>\n",
       "      <td>12</td>\n",
       "      <td>1</td>\n",
       "      <td>1</td>\n",
       "    </tr>\n",
       "    <tr>\n",
       "      <th>4</th>\n",
       "      <td>False</td>\n",
       "      <td>False</td>\n",
       "      <td>7</td>\n",
       "      <td>53</td>\n",
       "      <td>False</td>\n",
       "      <td>369</td>\n",
       "      <td>3929</td>\n",
       "      <td>2</td>\n",
       "      <td>2</td>\n",
       "      <td>1</td>\n",
       "      <td>1</td>\n",
       "    </tr>\n",
       "    <tr>\n",
       "      <th>6</th>\n",
       "      <td>False</td>\n",
       "      <td>False</td>\n",
       "      <td>9</td>\n",
       "      <td>63</td>\n",
       "      <td>False</td>\n",
       "      <td>46</td>\n",
       "      <td>3478</td>\n",
       "      <td>0</td>\n",
       "      <td>0</td>\n",
       "      <td>1</td>\n",
       "      <td>1</td>\n",
       "    </tr>\n",
       "    <tr>\n",
       "      <th>8</th>\n",
       "      <td>False</td>\n",
       "      <td>False</td>\n",
       "      <td>5</td>\n",
       "      <td>44</td>\n",
       "      <td>False</td>\n",
       "      <td>847</td>\n",
       "      <td>17759</td>\n",
       "      <td>14</td>\n",
       "      <td>11</td>\n",
       "      <td>1</td>\n",
       "      <td>1</td>\n",
       "    </tr>\n",
       "    <tr>\n",
       "      <th>10</th>\n",
       "      <td>False</td>\n",
       "      <td>False</td>\n",
       "      <td>4</td>\n",
       "      <td>43</td>\n",
       "      <td>False</td>\n",
       "      <td>350</td>\n",
       "      <td>6079</td>\n",
       "      <td>1</td>\n",
       "      <td>0</td>\n",
       "      <td>1</td>\n",
       "      <td>1</td>\n",
       "    </tr>\n",
       "    <tr>\n",
       "      <th>12</th>\n",
       "      <td>False</td>\n",
       "      <td>False</td>\n",
       "      <td>6</td>\n",
       "      <td>45</td>\n",
       "      <td>False</td>\n",
       "      <td>980</td>\n",
       "      <td>12656</td>\n",
       "      <td>10</td>\n",
       "      <td>11</td>\n",
       "      <td>1</td>\n",
       "      <td>1</td>\n",
       "    </tr>\n",
       "    <tr>\n",
       "      <th>14</th>\n",
       "      <td>False</td>\n",
       "      <td>False</td>\n",
       "      <td>5</td>\n",
       "      <td>28</td>\n",
       "      <td>False</td>\n",
       "      <td>573</td>\n",
       "      <td>5165</td>\n",
       "      <td>1</td>\n",
       "      <td>0</td>\n",
       "      <td>1</td>\n",
       "      <td>1</td>\n",
       "    </tr>\n",
       "    <tr>\n",
       "      <th>16</th>\n",
       "      <td>False</td>\n",
       "      <td>False</td>\n",
       "      <td>2</td>\n",
       "      <td>12</td>\n",
       "      <td>False</td>\n",
       "      <td>2262</td>\n",
       "      <td>20016</td>\n",
       "      <td>7</td>\n",
       "      <td>8</td>\n",
       "      <td>1</td>\n",
       "      <td>1</td>\n",
       "    </tr>\n",
       "    <tr>\n",
       "      <th>18</th>\n",
       "      <td>False</td>\n",
       "      <td>False</td>\n",
       "      <td>3</td>\n",
       "      <td>23</td>\n",
       "      <td>False</td>\n",
       "      <td>829</td>\n",
       "      <td>8589</td>\n",
       "      <td>10</td>\n",
       "      <td>11</td>\n",
       "      <td>1</td>\n",
       "      <td>1</td>\n",
       "    </tr>\n",
       "  </tbody>\n",
       "</table>\n",
       "</div>"
      ],
      "text/plain": [
       "    subj_reply  subj_forward  subj_noWords  subj_noChars  check_suspension  \\\n",
       "0         True         False             8            50             False   \n",
       "2        False         False             5            35             False   \n",
       "4        False         False             7            53             False   \n",
       "6        False         False             9            63             False   \n",
       "8        False         False             5            44             False   \n",
       "10       False         False             4            43             False   \n",
       "12       False         False             6            45             False   \n",
       "14       False         False             5            28             False   \n",
       "16       False         False             2            12             False   \n",
       "18       False         False             3            23             False   \n",
       "\n",
       "    check_noWords  check_noChars  nolinks  img  doubleslash Phishing  \n",
       "0              57            315        0    0            1        1  \n",
       "2            1214          40572        7   12            1        1  \n",
       "4             369           3929        2    2            1        1  \n",
       "6              46           3478        0    0            1        1  \n",
       "8             847          17759       14   11            1        1  \n",
       "10            350           6079        1    0            1        1  \n",
       "12            980          12656       10   11            1        1  \n",
       "14            573           5165        1    0            1        1  \n",
       "16           2262          20016        7    8            1        1  \n",
       "18            829           8589       10   11            1        1  "
      ]
     },
     "execution_count": 19,
     "metadata": {},
     "output_type": "execute_result"
    }
   ],
   "source": [
    "df.loc[df['Phishing'] == '1'] .head(10)"
   ]
  },
  {
   "cell_type": "code",
   "execution_count": 20,
   "metadata": {
    "scrolled": true
   },
   "outputs": [
    {
     "data": {
      "text/html": [
       "<div>\n",
       "<style scoped>\n",
       "    .dataframe tbody tr th:only-of-type {\n",
       "        vertical-align: middle;\n",
       "    }\n",
       "\n",
       "    .dataframe tbody tr th {\n",
       "        vertical-align: top;\n",
       "    }\n",
       "\n",
       "    .dataframe thead th {\n",
       "        text-align: right;\n",
       "    }\n",
       "</style>\n",
       "<table border=\"1\" class=\"dataframe\">\n",
       "  <thead>\n",
       "    <tr style=\"text-align: right;\">\n",
       "      <th></th>\n",
       "      <th>subj_reply</th>\n",
       "      <th>subj_forward</th>\n",
       "      <th>subj_noWords</th>\n",
       "      <th>subj_noChars</th>\n",
       "      <th>check_suspension</th>\n",
       "      <th>check_noWords</th>\n",
       "      <th>check_noChars</th>\n",
       "      <th>nolinks</th>\n",
       "      <th>img</th>\n",
       "      <th>doubleslash</th>\n",
       "      <th>Phishing</th>\n",
       "    </tr>\n",
       "  </thead>\n",
       "  <tbody>\n",
       "    <tr>\n",
       "      <th>1</th>\n",
       "      <td>True</td>\n",
       "      <td>False</td>\n",
       "      <td>4</td>\n",
       "      <td>24</td>\n",
       "      <td>False</td>\n",
       "      <td>225</td>\n",
       "      <td>1329</td>\n",
       "      <td>0</td>\n",
       "      <td>0</td>\n",
       "      <td>1</td>\n",
       "      <td>0</td>\n",
       "    </tr>\n",
       "    <tr>\n",
       "      <th>3</th>\n",
       "      <td>True</td>\n",
       "      <td>False</td>\n",
       "      <td>4</td>\n",
       "      <td>24</td>\n",
       "      <td>False</td>\n",
       "      <td>143</td>\n",
       "      <td>796</td>\n",
       "      <td>0</td>\n",
       "      <td>0</td>\n",
       "      <td>1</td>\n",
       "      <td>0</td>\n",
       "    </tr>\n",
       "    <tr>\n",
       "      <th>5</th>\n",
       "      <td>True</td>\n",
       "      <td>False</td>\n",
       "      <td>5</td>\n",
       "      <td>23</td>\n",
       "      <td>False</td>\n",
       "      <td>62</td>\n",
       "      <td>277</td>\n",
       "      <td>0</td>\n",
       "      <td>0</td>\n",
       "      <td>1</td>\n",
       "      <td>0</td>\n",
       "    </tr>\n",
       "    <tr>\n",
       "      <th>7</th>\n",
       "      <td>False</td>\n",
       "      <td>False</td>\n",
       "      <td>5</td>\n",
       "      <td>36</td>\n",
       "      <td>False</td>\n",
       "      <td>104</td>\n",
       "      <td>758</td>\n",
       "      <td>0</td>\n",
       "      <td>0</td>\n",
       "      <td>1</td>\n",
       "      <td>0</td>\n",
       "    </tr>\n",
       "    <tr>\n",
       "      <th>9</th>\n",
       "      <td>False</td>\n",
       "      <td>False</td>\n",
       "      <td>6</td>\n",
       "      <td>47</td>\n",
       "      <td>False</td>\n",
       "      <td>59</td>\n",
       "      <td>555</td>\n",
       "      <td>0</td>\n",
       "      <td>0</td>\n",
       "      <td>1</td>\n",
       "      <td>0</td>\n",
       "    </tr>\n",
       "    <tr>\n",
       "      <th>11</th>\n",
       "      <td>True</td>\n",
       "      <td>False</td>\n",
       "      <td>4</td>\n",
       "      <td>24</td>\n",
       "      <td>False</td>\n",
       "      <td>352</td>\n",
       "      <td>1922</td>\n",
       "      <td>0</td>\n",
       "      <td>0</td>\n",
       "      <td>1</td>\n",
       "      <td>0</td>\n",
       "    </tr>\n",
       "    <tr>\n",
       "      <th>13</th>\n",
       "      <td>False</td>\n",
       "      <td>False</td>\n",
       "      <td>6</td>\n",
       "      <td>38</td>\n",
       "      <td>False</td>\n",
       "      <td>77</td>\n",
       "      <td>577</td>\n",
       "      <td>0</td>\n",
       "      <td>0</td>\n",
       "      <td>1</td>\n",
       "      <td>0</td>\n",
       "    </tr>\n",
       "    <tr>\n",
       "      <th>15</th>\n",
       "      <td>True</td>\n",
       "      <td>False</td>\n",
       "      <td>8</td>\n",
       "      <td>47</td>\n",
       "      <td>False</td>\n",
       "      <td>155</td>\n",
       "      <td>884</td>\n",
       "      <td>0</td>\n",
       "      <td>0</td>\n",
       "      <td>1</td>\n",
       "      <td>0</td>\n",
       "    </tr>\n",
       "    <tr>\n",
       "      <th>17</th>\n",
       "      <td>False</td>\n",
       "      <td>False</td>\n",
       "      <td>8</td>\n",
       "      <td>45</td>\n",
       "      <td>False</td>\n",
       "      <td>175</td>\n",
       "      <td>874</td>\n",
       "      <td>0</td>\n",
       "      <td>0</td>\n",
       "      <td>1</td>\n",
       "      <td>0</td>\n",
       "    </tr>\n",
       "    <tr>\n",
       "      <th>19</th>\n",
       "      <td>False</td>\n",
       "      <td>False</td>\n",
       "      <td>4</td>\n",
       "      <td>25</td>\n",
       "      <td>False</td>\n",
       "      <td>89</td>\n",
       "      <td>554</td>\n",
       "      <td>0</td>\n",
       "      <td>0</td>\n",
       "      <td>1</td>\n",
       "      <td>0</td>\n",
       "    </tr>\n",
       "  </tbody>\n",
       "</table>\n",
       "</div>"
      ],
      "text/plain": [
       "    subj_reply  subj_forward  subj_noWords  subj_noChars  check_suspension  \\\n",
       "1         True         False             4            24             False   \n",
       "3         True         False             4            24             False   \n",
       "5         True         False             5            23             False   \n",
       "7        False         False             5            36             False   \n",
       "9        False         False             6            47             False   \n",
       "11        True         False             4            24             False   \n",
       "13       False         False             6            38             False   \n",
       "15        True         False             8            47             False   \n",
       "17       False         False             8            45             False   \n",
       "19       False         False             4            25             False   \n",
       "\n",
       "    check_noWords  check_noChars  nolinks  img  doubleslash Phishing  \n",
       "1             225           1329        0    0            1        0  \n",
       "3             143            796        0    0            1        0  \n",
       "5              62            277        0    0            1        0  \n",
       "7             104            758        0    0            1        0  \n",
       "9              59            555        0    0            1        0  \n",
       "11            352           1922        0    0            1        0  \n",
       "13             77            577        0    0            1        0  \n",
       "15            155            884        0    0            1        0  \n",
       "17            175            874        0    0            1        0  \n",
       "19             89            554        0    0            1        0  "
      ]
     },
     "execution_count": 20,
     "metadata": {},
     "output_type": "execute_result"
    }
   ],
   "source": [
    "df.loc[df['Phishing'] == '0'] .head(10)"
   ]
  },
  {
   "cell_type": "markdown",
   "metadata": {},
   "source": []
  },
  {
   "cell_type": "code",
   "execution_count": 24,
   "metadata": {},
   "outputs": [
    {
     "data": {
      "text/plain": [
       "1     22\n",
       "0     20\n",
       "2     13\n",
       "10    11\n",
       "3      8\n",
       "7      6\n",
       "5      5\n",
       "11     3\n",
       "4      2\n",
       "8      2\n",
       "13     2\n",
       "14     2\n",
       "18     2\n",
       "9      1\n",
       "12     1\n",
       "Name: nolinks, dtype: Int64"
      ]
     },
     "execution_count": 24,
     "metadata": {},
     "output_type": "execute_result"
    }
   ],
   "source": [
    "normal = df.loc[df['Phishing'] == '1']\n",
    "normal[\"nolinks\"].value_counts()"
   ]
  },
  {
   "cell_type": "code",
   "execution_count": 25,
   "metadata": {},
   "outputs": [
    {
     "data": {
      "text/plain": [
       "0    99\n",
       "2     1\n",
       "Name: nolinks, dtype: Int64"
      ]
     },
     "execution_count": 25,
     "metadata": {},
     "output_type": "execute_result"
    }
   ],
   "source": [
    "normal = df.loc[df['Phishing'] == '0']\n",
    "normal[\"nolinks\"].value_counts()"
   ]
  },
  {
   "cell_type": "markdown",
   "metadata": {},
   "source": [
    "Now that you have done the correlation check, do you now know what are the features that generally constitutes a phishing email?\n",
    "\n",
    "Now let's try to break the model by using these features against the machine learning model, and try to break the machine learning model by creating a false positive, where the machine learning model thinks a non-phishing email is a phishing email.\n",
    "\n",
    "One method you can try in order to craft the email would be to use Thunderbird in order to craft the email."
   ]
  },
  {
   "cell_type": "markdown",
   "metadata": {},
   "source": [
    "With your phishing email crafted, it will be sent to a server to test for whether it is successful in breaking the machine learning model or not!\n",
    "\n",
    "Link: ???? (TO BE ADDED)"
   ]
  },
  {
   "cell_type": "code",
   "execution_count": 22,
   "metadata": {
    "scrolled": false
   },
   "outputs": [
    {
     "data": {
      "text/html": [
       "\n",
       "        <iframe\n",
       "            width=\"800\"\n",
       "            height=\"300\"\n",
       "            src=\"https://ctf-crisis-2.herokuapp.com/challenge1\"\n",
       "            frameborder=\"0\"\n",
       "            allowfullscreen\n",
       "        ></iframe>\n",
       "        "
      ],
      "text/plain": [
       "<IPython.lib.display.IFrame at 0x2a2fb5dca20>"
      ]
     },
     "execution_count": 22,
     "metadata": {},
     "output_type": "execute_result"
    }
   ],
   "source": [
    "from IPython.display import IFrame\n",
    "IFrame(\"https://ctf-crisis-2.herokuapp.com/challenge1\", width=800, height=300)"
   ]
  },
  {
   "cell_type": "markdown",
   "metadata": {},
   "source": [
    "BONUS QUESTION:\n",
    "\n",
    "Are you able to determine the most important feature to the Machine Learning Model?\n",
    "(HINT: It is one of the features that we have shown you!)"
   ]
  },
  {
   "cell_type": "code",
   "execution_count": 23,
   "metadata": {
    "scrolled": false
   },
   "outputs": [
    {
     "data": {
      "text/html": [
       "\n",
       "        <iframe\n",
       "            width=\"800\"\n",
       "            height=\"300\"\n",
       "            src=\"https://ctf-crisis-2.herokuapp.com/challenge1_p2\"\n",
       "            frameborder=\"0\"\n",
       "            allowfullscreen\n",
       "        ></iframe>\n",
       "        "
      ],
      "text/plain": [
       "<IPython.lib.display.IFrame at 0x2a2fb6443c8>"
      ]
     },
     "execution_count": 23,
     "metadata": {},
     "output_type": "execute_result"
    }
   ],
   "source": [
    "from IPython.display import IFrame\n",
    "IFrame(\"https://ctf-crisis-2.herokuapp.com/challenge1_p2\", width=800, height=300)"
   ]
  },
  {
   "cell_type": "code",
   "execution_count": null,
   "metadata": {},
   "outputs": [],
   "source": []
  }
 ],
 "metadata": {
  "kernelspec": {
   "display_name": "Python 3",
   "language": "python",
   "name": "python3"
  },
  "language_info": {
   "codemirror_mode": {
    "name": "ipython",
    "version": 3
   },
   "file_extension": ".py",
   "mimetype": "text/x-python",
   "name": "python",
   "nbconvert_exporter": "python",
   "pygments_lexer": "ipython3",
   "version": "3.6.9"
  }
 },
 "nbformat": 4,
 "nbformat_minor": 2
}
